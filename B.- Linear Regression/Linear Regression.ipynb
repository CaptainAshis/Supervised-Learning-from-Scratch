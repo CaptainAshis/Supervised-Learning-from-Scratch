{
 "cells": [
  {
   "cell_type": "code",
   "execution_count": 2,
   "metadata": {
    "collapsed": true
   },
   "outputs": [],
   "source": [
    "# A Linear regression is  a way of predctive analysis . It explains the relationship between two or more variables.\n",
    "# Simple Linear regression has  One dependent variable and one independent variable\n",
    "# So we have a data plotted and we want a best fit line that explains the relationship between independent and dependent variable"
   ]
  },
  {
   "cell_type": "code",
   "execution_count": 3,
   "metadata": {
    "collapsed": true
   },
   "outputs": [],
   "source": [
    "# Best fit line describes most accurate value of y based on x . i.e the error difference between the predicted and actual values is\n",
    "# the least using Sum of square of all errors (∑error^2)"
   ]
  },
  {
   "cell_type": "code",
   "execution_count": 23,
   "metadata": {
    "collapsed": true
   },
   "outputs": [],
   "source": [
    "# Linear regression, or ordinary least squares (OLS), is the simplest and most classic linear\n",
    "# method for regression. Linear regression finds the parameters w and b that minimize\n",
    "# the mean squared error between predictions and the true regression targets, y,\n",
    "# on the training set."
   ]
  },
  {
   "cell_type": "code",
   "execution_count": 24,
   "metadata": {
    "collapsed": true
   },
   "outputs": [],
   "source": [
    "#  So linear regression finds the parameter of the line w and b that finds the  best fits that  minimizes the SSE between\n",
    "# prediction and true target or actual values"
   ]
  },
  {
   "cell_type": "code",
   "execution_count": 25,
   "metadata": {
    "collapsed": true
   },
   "outputs": [],
   "source": [
    "# Other important metric is R² measures, “How much the change in output variable (y) is explained by the change in input variable(x).\n"
   ]
  },
  {
   "cell_type": "code",
   "execution_count": 49,
   "metadata": {
    "collapsed": true
   },
   "outputs": [],
   "source": [
    "import sklearn\n",
    "import mglearn\n",
    "from matplotlib import pyplot as plt\n",
    "%matplotlib inline"
   ]
  },
  {
   "cell_type": "code",
   "execution_count": 7,
   "metadata": {
    "collapsed": true
   },
   "outputs": [],
   "source": [
    "from sklearn.linear_model import  LinearRegression\n",
    "from sklearn.model_selection import train_test_split"
   ]
  },
  {
   "cell_type": "code",
   "execution_count": 8,
   "metadata": {
    "collapsed": true
   },
   "outputs": [],
   "source": [
    "X,y=mglearn.datasets.make_wave(n_samples=60)\n",
    "X_train,X_test,y_train,y_test=train_test_split(X,y,random_state=42)\n",
    "lr=LinearRegression().fit(X_train,y_train)"
   ]
  },
  {
   "cell_type": "code",
   "execution_count": 9,
   "metadata": {
    "collapsed": true
   },
   "outputs": [],
   "source": [
    "# The attributes are as below"
   ]
  },
  {
   "cell_type": "code",
   "execution_count": 10,
   "metadata": {},
   "outputs": [
    {
     "data": {
      "text/plain": [
       "array([ 0.39390555])"
      ]
     },
     "execution_count": 10,
     "metadata": {},
     "output_type": "execute_result"
    }
   ],
   "source": [
    "lr.coef_ #Weights or coefficients stored in coef_ attribute. This can be a numpy array with one entry per input feature"
   ]
  },
  {
   "cell_type": "code",
   "execution_count": 11,
   "metadata": {},
   "outputs": [
    {
     "data": {
      "text/plain": [
       "-0.031804343026759746"
      ]
     },
     "execution_count": 11,
     "metadata": {},
     "output_type": "execute_result"
    }
   ],
   "source": [
    "lr.intercept_ #offset or intercept stored here . this will always be a single number"
   ]
  },
  {
   "cell_type": "code",
   "execution_count": 12,
   "metadata": {},
   "outputs": [
    {
     "data": {
      "text/plain": [
       "array([-0.3283204 , -0.84483835, -0.49358667,  0.35230624, -0.71167167,\n",
       "        0.19957573,  1.02910669,  0.07859229,  0.75390167, -0.75032857,\n",
       "       -0.47681266,  1.07802761, -0.8104986 ,  0.2013684 ,  1.00692209])"
      ]
     },
     "execution_count": 12,
     "metadata": {},
     "output_type": "execute_result"
    }
   ],
   "source": [
    "lr.predict(X_test)"
   ]
  },
  {
   "cell_type": "code",
   "execution_count": 13,
   "metadata": {},
   "outputs": [
    {
     "data": {
      "text/plain": [
       "0.65933685968637001"
      ]
     },
     "execution_count": 13,
     "metadata": {},
     "output_type": "execute_result"
    }
   ],
   "source": [
    "lr.score(X_test,y_test)"
   ]
  },
  {
   "cell_type": "code",
   "execution_count": 14,
   "metadata": {},
   "outputs": [
    {
     "data": {
      "text/plain": [
       "0.67008903150757559"
      ]
     },
     "execution_count": 14,
     "metadata": {},
     "output_type": "execute_result"
    }
   ],
   "source": [
    "lr.score(X_train,y_train)"
   ]
  },
  {
   "cell_type": "code",
   "execution_count": 15,
   "metadata": {
    "collapsed": true
   },
   "outputs": [],
   "source": [
    "# Not good R^2. sign of underfitting as the accuracy is near about for training and testung dataset"
   ]
  },
  {
   "cell_type": "code",
   "execution_count": 16,
   "metadata": {
    "collapsed": true
   },
   "outputs": [],
   "source": [
    "# ?? How to resolve underfitting-include more parameters"
   ]
  },
  {
   "cell_type": "code",
   "execution_count": 17,
   "metadata": {
    "collapsed": true
   },
   "outputs": [],
   "source": [
    "# In high dimension dataset there is more chance of overfitting , so lets go for Boston dataset"
   ]
  },
  {
   "cell_type": "code",
   "execution_count": 18,
   "metadata": {
    "collapsed": true
   },
   "outputs": [],
   "source": [
    "X,y=mglearn.datasets.load_extended_boston()\n",
    "X_train,X_test,y_train,y_test=train_test_split(X,y,random_state=42)\n",
    "lr=LinearRegression().fit(X_train,y_train)"
   ]
  },
  {
   "cell_type": "code",
   "execution_count": 19,
   "metadata": {},
   "outputs": [
    {
     "data": {
      "text/plain": [
       "0.94477334580744021"
      ]
     },
     "execution_count": 19,
     "metadata": {},
     "output_type": "execute_result"
    }
   ],
   "source": [
    "lr.score(X_train,y_train)"
   ]
  },
  {
   "cell_type": "code",
   "execution_count": 20,
   "metadata": {},
   "outputs": [
    {
     "data": {
      "text/plain": [
       "0.79120622729186585"
      ]
     },
     "execution_count": 20,
     "metadata": {},
     "output_type": "execute_result"
    }
   ],
   "source": [
    "lr.score(X_test,y_test)"
   ]
  },
  {
   "cell_type": "code",
   "execution_count": 21,
   "metadata": {
    "collapsed": true
   },
   "outputs": [],
   "source": [
    "# Clear sign of overfitting , so we have to penalize and control model complexity so we go for ridge regression. not able to generalize"
   ]
  },
  {
   "cell_type": "markdown",
   "metadata": {
    "collapsed": true
   },
   "source": [
    "# Ridge regression"
   ]
  },
  {
   "cell_type": "code",
   "execution_count": 26,
   "metadata": {
    "collapsed": true
   },
   "outputs": [],
   "source": [
    "# Ridge regression is also a linear model for regression, so the formula it uses to make\n",
    "# predictions is the same one used for ordinary least squares. In ridge regression,\n",
    "# though, the coefficients (w) are chosen not only so that they predict well on the training\n",
    "# data, but also to fit an additional constraint. We also want the magnitude of coefficients\n",
    "# to be as small as possible; in other words, all entries of w should be close to\n",
    "# zero. Intuitively, this means each feature should have as little effect on the outcome as\n",
    "# possible (which translates to having a small slope), while still predicting well. This\n",
    "# constraint is an example of what is called regularization. Regularization means explicitly\n",
    "# restricting a model to avoid overfitting."
   ]
  },
  {
   "cell_type": "code",
   "execution_count": 96,
   "metadata": {},
   "outputs": [
    {
     "name": "stdout",
     "output_type": "stream",
     "text": [
      "0.870375195897\n",
      "0.814099803185\n"
     ]
    },
    {
     "data": {
      "text/plain": [
       "-1.4185195557769201"
      ]
     },
     "execution_count": 96,
     "metadata": {},
     "output_type": "execute_result"
    }
   ],
   "source": [
    "from sklearn.linear_model import Ridge\n",
    "ridge=Ridge().fit(X_train,y_train)\n",
    "print(ridge.score(X_train,y_train))\n",
    "print(ridge.score(X_test,y_test))\n",
    "ridge.coef_[1]"
   ]
  },
  {
   "cell_type": "code",
   "execution_count": 30,
   "metadata": {
    "collapsed": true
   },
   "outputs": [],
   "source": [
    "# Ridge is a more restricted model, so we are\n",
    "# less likely to overfit. A less complex model means worse performance on the training\n",
    "# set, but better generalization."
   ]
  },
  {
   "cell_type": "code",
   "execution_count": 31,
   "metadata": {
    "collapsed": true
   },
   "outputs": [],
   "source": [
    "# In the previous example, we used the default parameter alpha=1.0.  The optimum setting of alpha depends on the particular dataset we are using.\n",
    "# Increasing alpha forces coefficients to move more toward zero, which decreases training set performance but might help generalization."
   ]
  },
  {
   "cell_type": "code",
   "execution_count": 94,
   "metadata": {},
   "outputs": [
    {
     "name": "stdout",
     "output_type": "stream",
     "text": [
      "0.917735903166\n",
      "0.824025240419\n"
     ]
    },
    {
     "data": {
      "text/plain": [
       "-4.5485735624058359"
      ]
     },
     "execution_count": 94,
     "metadata": {},
     "output_type": "execute_result"
    }
   ],
   "source": [
    "ridge01 = Ridge(alpha=0.1).fit(X_train, y_train)\n",
    "print(ridge01.score(X_train,y_train))\n",
    "print(ridge01.score(X_test,y_test))\n",
    "ridge01.coef_[1]"
   ]
  },
  {
   "cell_type": "code",
   "execution_count": 93,
   "metadata": {},
   "outputs": [
    {
     "name": "stdout",
     "output_type": "stream",
     "text": [
      "0.767049882547\n",
      "0.727757351199\n"
     ]
    },
    {
     "data": {
      "text/plain": [
       "0.37421357681029832"
      ]
     },
     "execution_count": 93,
     "metadata": {},
     "output_type": "execute_result"
    }
   ],
   "source": [
    "ridge10 = Ridge(alpha=10).fit(X_train, y_train)\n",
    "print(ridge10.score(X_train,y_train))\n",
    "print(ridge10.score(X_test,y_test))\n",
    "ridge10.coef_[1]"
   ]
  },
  {
   "cell_type": "code",
   "execution_count": 34,
   "metadata": {
    "collapsed": true
   },
   "outputs": [],
   "source": [
    "# In overfitting the algorithm over learns from the training dataset hence couldnt generalize to the test data set . \n",
    "# So using Regularization we are able to penalize the weights and decrease them so that it learns a linear function instead of \n",
    "# a complicated function.Z depends on w and since w is small z is small so in case of logistic regression  . the output of z\n",
    "# will be in a linear regime and its easy to learn an identity function."
   ]
  },
  {
   "cell_type": "code",
   "execution_count": 67,
   "metadata": {},
   "outputs": [],
   "source": [
    "import numpy as np\n",
    "\n",
    "# list(range(1,11,0.01))"
   ]
  },
  {
   "cell_type": "code",
   "execution_count": 90,
   "metadata": {},
   "outputs": [
    {
     "data": {
      "text/plain": [
       "<matplotlib.legend.Legend at 0x8250aadb38>"
      ]
     },
     "execution_count": 90,
     "metadata": {},
     "output_type": "execute_result"
    },
    {
     "data": {
      "image/png": "[encoded data removed]",
      "text/plain": [
       "<matplotlib.figure.Figure at 0x824f2b1c50>"
      ]
     },
     "metadata": {},
     "output_type": "display_data"
    }
   ],
   "source": [
    "trn_accuracy=[]\n",
    "tst_accuracy=[]\n",
    "alphas=list(np.linspace(0.001,1,10000))\n",
    "for alpha in alphas:\n",
    "    ridge10 = Ridge(alpha=alpha).fit(X_train, y_train)\n",
    "    trn_accuracy.append(ridge10.score(X_train,y_train))\n",
    "    tst_accuracy.append(ridge10.score(X_test,y_test))\n",
    "plt.plot(alphas,trn_accuracy,label='training accuracy')\n",
    "plt.plot(alphas,tst_accuracy,label='testing accuracy')\n",
    "plt.xlabel(\"alphas\")\n",
    "plt.ylabel(\"Accuracy\")\n",
    "plt.legend()"
   ]
  },
  {
   "cell_type": "code",
   "execution_count": 79,
   "metadata": {},
   "outputs": [],
   "source": [
    "#  the alpha parameter changes the\n",
    "# model by inspecting the coef_ attribute of models with different values of alpha. A\n",
    "# higher alpha means a more restricted model, so we expect the entries of coef_ to\n",
    "# have smaller magnitude for a high value of alpha than for a low value of alpha."
   ]
  },
  {
   "cell_type": "code",
   "execution_count": 95,
   "metadata": {
    "collapsed": true
   },
   "outputs": [],
   "source": [
    "# Here we can clearly observe that as the value of alpha increases, the model complexity reduces.\n",
    "# Though higher values of alpha reduce overfitting, significantly high values can cause underfitting as well (eg. alpha = 5). \n",
    "# Thus alpha should be chosen wisely. A widely accept technique is cross-validation,\n",
    "# i.e. the value of alpha is iterated over a range of values and the one giving higher cross-validation score is chosen."
   ]
  },
  {
   "cell_type": "code",
   "execution_count": 97,
   "metadata": {
    "collapsed": true
   },
   "outputs": [],
   "source": [
    "# In practice, ridge regression is usually the first choice between these two models.\n",
    "# However, if you have a large amount of features and expect only a few of them to be\n",
    "# important, Lasso might be a better choice. Similarly, if you would like to have a\n",
    "# model that is easy to interpret, Lasso will provide a model that is easier to understand,\n",
    "# as it will select only a subset of the input features. scikit-learn also provides\n",
    "# the ElasticNet class, which combines the penalties of Lasso and Ridge. In practice,\n",
    "# this combination works best, though at the price of having two parameters to adjust:\n",
    "# one for the L1 regularization, and one for the L2 regularization."
   ]
  },
  {
   "cell_type": "code",
   "execution_count": 98,
   "metadata": {
    "collapsed": true
   },
   "outputs": [],
   "source": [
    "# R^2 vs adjusted R^2"
   ]
  }
 ],
 "metadata": {
  "kernelspec": {
   "display_name": "Python 3",
   "language": "python",
   "name": "python3"
  },
  "language_info": {
   "codemirror_mode": {
    "name": "ipython",
    "version": 3
   },
   "file_extension": ".py",
   "mimetype": "text/x-python",
   "name": "python",
   "nbconvert_exporter": "python",
   "pygments_lexer": "ipython3",
   "version": "3.6.2"
  }
 },
 "nbformat": 4,
 "nbformat_minor": 2
}
